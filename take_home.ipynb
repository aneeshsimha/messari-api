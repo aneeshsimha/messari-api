{
 "cells": [
  {
   "cell_type": "code",
   "execution_count": 101,
   "metadata": {},
   "outputs": [],
   "source": [
    "import os\n",
    "import pandas as pd\n",
    "from pandas import json_normalize\n",
    "import numpy as np\n",
    "import requests\n",
    "import time\n",
    "import json"
   ]
  },
  {
   "cell_type": "code",
   "execution_count": 102,
   "metadata": {},
   "outputs": [
    {
     "name": "stdout",
     "output_type": "stream",
     "text": [
      "200\n"
     ]
    }
   ],
   "source": [
    "messari_TS_url = \"hello\"\n",
    "messari_MP_url =  \"hi\"\n",
    "messari_test_url = \"https://data.messari.io/api/v1/assets/yfi/metrics/price/time-series?start=2021-01-01&end=2021-02-01&interval=1d\"\n",
    "response = requests.get(messari_test_url)\n",
    "print(response.status_code)\n",
    "data = response.json()\n",
    "dumps = json.dumps(data, sort_keys=True, indent=4)"
   ]
  },
  {
   "cell_type": "code",
   "execution_count": 104,
   "metadata": {},
   "outputs": [
    {
     "name": "stdout",
     "output_type": "stream",
     "text": [
      "    timestamp         close\n",
      "0  2021-01-01  21898.581377\n",
      "1  2021-01-02  21467.056191\n",
      "2  2021-01-03  23903.585935\n",
      "3  2021-01-04  23391.127028\n",
      "4  2021-01-05  23810.774761\n"
     ]
    }
   ],
   "source": [
    "info = json.loads(dumps)\n",
    "df2 =json_normalize(info['data'], record_path = ['values'])\n",
    "df2.columns = [\"timestamp\",\"open\",\"high\", \"low\", \"close\", \"volume\"]\n",
    "df2['timestamp']=df2.apply(lambda x: time.strftime('%Y-%m-%d', time.gmtime(x['timestamp']/1000)),axis=1)\n",
    "\n",
    "df3 = df2[['timestamp','close']]\n",
    "print(df3.head())"
   ]
  },
  {
   "cell_type": "code",
   "execution_count": null,
   "metadata": {},
   "outputs": [],
   "source": []
  },
  {
   "cell_type": "code",
   "execution_count": null,
   "metadata": {},
   "outputs": [],
   "source": []
  }
 ],
 "metadata": {
  "kernelspec": {
   "display_name": "Python 3",
   "language": "python",
   "name": "python3"
  },
  "language_info": {
   "codemirror_mode": {
    "name": "ipython",
    "version": 3
   },
   "file_extension": ".py",
   "mimetype": "text/x-python",
   "name": "python",
   "nbconvert_exporter": "python",
   "pygments_lexer": "ipython3",
   "version": "3.8.3"
  }
 },
 "nbformat": 4,
 "nbformat_minor": 4
}
